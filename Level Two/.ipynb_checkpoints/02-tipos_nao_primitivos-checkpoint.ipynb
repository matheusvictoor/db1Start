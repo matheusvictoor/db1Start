{
 "cells": [
  {
   "cell_type": "markdown",
   "id": "1336767d",
   "metadata": {},
   "source": [
    "### 1 - Escreva um programa que some todos os itens de uma lista."
   ]
  },
  {
   "cell_type": "code",
   "execution_count": null,
   "id": "a9d74560",
   "metadata": {},
   "outputs": [],
   "source": [
    "print(f\"Insira os valores da lista a serem somados. Para encerrar a entrada de valores, insira o caracter \"\"(-)\"\".\")\n",
    "\n",
    "lista = []\n",
    "soma = 0\n",
    "\n",
    "while True:\n",
    "    num = input()\n",
    "  \n",
    "    if num == \"-\":\n",
    "        break\n",
    "        \n",
    "    lista.append(num)\n",
    "    \n",
    "for i in range(len(lista)):\n",
    "    soma += int(lista[i])\n",
    "\n",
    "print(\"A soma de todos os itens da lista eh:\", soma)"
   ]
  },
  {
   "cell_type": "markdown",
   "id": "842d367d",
   "metadata": {},
   "source": [
    "### 2 - Escreva um programa que multiplique todos os itens de uma lista."
   ]
  },
  {
   "cell_type": "code",
   "execution_count": null,
   "id": "d1065a22",
   "metadata": {},
   "outputs": [],
   "source": [
    "print(\"Por qual número você quer multiplicar a lista ? \")\n",
    "num = int(input())\n",
    "\n",
    "lista = []\n",
    "\n",
    "print(\"\\n\")\n",
    "print(\"Insira os valores da lista. Para encerrar a entrada de valores, insira o caracter \"\"(-)\"\".\")\n",
    "\n",
    "while True:\n",
    "    entrada = input()\n",
    "    \n",
    "    if entrada == \"-\":\n",
    "        break \n",
    "        \n",
    "    lista.append(int(entrada) * num)\n",
    "    \n",
    "print(lista)"
   ]
  },
  {
   "cell_type": "markdown",
   "id": "9de8abc8",
   "metadata": {},
   "source": [
    "### 3 - Escreva um programa que retorne o maior e o menor número de uma lista."
   ]
  },
  {
   "cell_type": "code",
   "execution_count": null,
   "id": "54608dd8",
   "metadata": {},
   "outputs": [],
   "source": [
    "print(\"Insira os valores na lista. Para encerrar a entrada de valores, insira o caracter \"\"(-)\"\".\")\n",
    "\n",
    "lista = []\n",
    "\n",
    "while True:\n",
    "    entrada = input()\n",
    "    \n",
    "    if entrada == \"-\":\n",
    "        break\n",
    "    \n",
    "    lista.append(int(entrada))\n",
    "\n",
    "menor = lista[0]\n",
    "maior = lista[0]\n",
    "    \n",
    "for i in range(len(lista)-1):\n",
    "    \n",
    "    if lista[i+1] < menor:\n",
    "        menor = lista[i+1]\n",
    "        \n",
    "    if lista[i+1] > maior:\n",
    "        maior = lista[i+1]\n",
    "\n",
    "print(f\"O menor valor da lista eh {menor} e o maior número da lista eh {maior}.\")\n",
    "\n",
    "    "
   ]
  },
  {
   "cell_type": "markdown",
   "id": "98051aa6",
   "metadata": {},
   "source": [
    "### 4 - Escreva um programa que conte o número de caracteres de uma string ( Exemplo: 'google.com' Resultado Esperado: {'o': 3, 'g': 2, '.': 1, 'e': 1, 'l': 1, 'm': 1, 'c': 1} )"
   ]
  },
  {
   "cell_type": "code",
   "execution_count": null,
   "id": "1fac43ac",
   "metadata": {},
   "outputs": [],
   "source": [
    "from collections import Counter\n",
    "\n",
    "cont_caracteres = dict(Counter(input(\"Insira uma frase: \")))\n",
    "\n",
    "print(cont_caracteres)"
   ]
  },
  {
   "cell_type": "markdown",
   "id": "5a029ca9",
   "metadata": {},
   "source": [
    "### 5 - Escreva um programa que conte quantas string tenham tamanho maior que 2 e o primeiro e último caracteres sejam iguais. (Exemplo de lista: ['abc', 'xyz', 'aba', '1221'] Resultado esperado: 2 )"
   ]
  },
  {
   "cell_type": "code",
   "execution_count": null,
   "id": "c5e1a642",
   "metadata": {},
   "outputs": [],
   "source": [
    "print(\"Insira strings a serem analisadas. Para encerrar a entrada de valores, insira o caracter \"\"(-)\"\".\")\n",
    "\n",
    "lista = []\n",
    "\n",
    "while True:\n",
    "    entrada = input()\n",
    "    \n",
    "    if entrada == \"-\":\n",
    "        break\n",
    "    \n",
    "    lista.append(entrada)\n",
    "\n",
    "cont = 0\n",
    "    \n",
    "for string in lista:\n",
    "    \n",
    "    primeiro_string = string[0]\n",
    "    ultimo_string = string [-1]\n",
    "    \n",
    "    if len(string) > 2 and primeiro_string == ultimo_string:\n",
    "        cont += 1\n",
    "        \n",
    "print(f\"Quantidade de string com tamanho maior que 2 e com a primeiro e ultimo caracter iguais: {cont}\")\n",
    "            \n"
   ]
  },
  {
   "cell_type": "markdown",
   "id": "11ff391b",
   "metadata": {},
   "source": [
    "### 6 - Escreva um programa que ordene em ordem crescente uma lista de tuplas informadas, pelo último item da tupla (Exemplo de lista: [(2, 5), (1, 2), (4, 4), (2, 3), (2, 1)] Resultado esperado: [(2, 1), (1, 2), (2, 3), (4, 4), (2, 5)] )\n"
   ]
  },
  {
   "cell_type": "code",
   "execution_count": null,
   "id": "aab71720",
   "metadata": {},
   "outputs": [],
   "source": [
    "from operator import itemgetter\n",
    "\n",
    "print(\"Informe os itens das tuplas (sem espaço e sem vígula). Para encerrar a entrada, insira \"\"(-)\"\". \")\n",
    "\n",
    "lista = []\n",
    "\n",
    "while True:\n",
    "    entrada = input()\n",
    "    \n",
    "    if entrada == \"-\":\n",
    "        break\n",
    "    \n",
    "    lista.append(tuple(entrada))\n",
    "\n",
    "print(sorted(lista, key = itemgetter(-1)))\n",
    "\n"
   ]
  },
  {
   "cell_type": "markdown",
   "id": "f367044f",
   "metadata": {},
   "source": [
    "### 7 - Escreva um programa que adicione uma chave (key) a um dicionário. (Exemplo dicionário(Dict): {0: 10, 1: 20} Resultado esperado: {0: 10, 1: 20, 2: 30} )"
   ]
  },
  {
   "cell_type": "code",
   "execution_count": null,
   "id": "6eda8607",
   "metadata": {},
   "outputs": [],
   "source": [
    "print(\"Informe o valor e em seguida a chave numérica para se inserida ao dicionário\")\n",
    "\n",
    "dic = {}\n",
    "\n",
    "while True:\n",
    "    \n",
    "    entrada = input(\"chave: \")\n",
    "    \n",
    "    if entrada == \"-\":\n",
    "        break\n",
    "    \n",
    "    dic[entrada] = int(input(\"valor: \"))\n",
    "\n",
    "print(dic)"
   ]
  },
  {
   "cell_type": "markdown",
   "id": "eb42552b",
   "metadata": {},
   "source": [
    "### 8 - Escreva um programa que concatene os dicionários abaixo e crie um novo. Exemplo dicionário(Dict): dic1={1:10, 2:20}, dic2={3:30, 4:40}, dic3={5:50,6:60}. Resultado esperado: {1: 10, 2: 20, 3: 30, 4: 40, 5: 50, 6: 60}\n"
   ]
  },
  {
   "cell_type": "code",
   "execution_count": 15,
   "id": "911290d5",
   "metadata": {},
   "outputs": [
    {
     "name": "stdout",
     "output_type": "stream",
     "text": [
      "{1: 10, 2: 20, 3: 30, 4: 40, 5: 50, 6: 60}\n"
     ]
    }
   ],
   "source": [
    "dic1={1:10, 2:20}\n",
    "dic2={3:30, 4:40}\n",
    "dic3={5:50, 6:60}\n",
    "\n",
    "dic = {}\n",
    "\n",
    "dic = {**dic1,**dic2, **dic3}\n",
    "\n",
    "print(dic)"
   ]
  },
  {
   "cell_type": "markdown",
   "id": "e73009c9",
   "metadata": {},
   "source": [
    "### 9 - Escreva um programa que leia chaves e valores, crie um dicionário, e depois, verifique se uma chave informada existe em um dicionário."
   ]
  },
  {
   "cell_type": "code",
   "execution_count": null,
   "id": "3d411659",
   "metadata": {},
   "outputs": [],
   "source": [
    "print(\"Informe o chave e em seguida o valor numérico para se inseridos ao dicionário. Para encerrar a entrada, insira \"\"(-)\"\". \")\n",
    "\n",
    "dic = {}\n",
    "\n",
    "while True:\n",
    "    \n",
    "    entrada = input(\"chave: \")\n",
    "    \n",
    "    if entrada == \"-\":\n",
    "        break\n",
    "    \n",
    "    dic[entrada] = int(input(\"valor: \"))\n",
    "\n",
    "chave = input(\"Informe uma chave para saber se existe no dicionário: \")\n",
    "\n",
    "lista = dic.keys()\n",
    "\n",
    "if chave in lista:\n",
    "    print(\"A chave existe no dicionário\")\n",
    "else:\n",
    "    print(\"A chave NÂO exite no dicionário\")"
   ]
  },
  {
   "cell_type": "markdown",
   "id": "2b1c9d72",
   "metadata": {},
   "source": [
    "### 10 - Escreva um programa que itere em um dicionário utilizando loops."
   ]
  },
  {
   "cell_type": "code",
   "execution_count": null,
   "id": "3f5ef3fa",
   "metadata": {},
   "outputs": [],
   "source": [
    "dic = { 'Matheus': 25,\n",
    "        'Victor': 12,\n",
    "        'Pereira': 18,\n",
    "        'Zu': 79}\n",
    "print(\"Interando sobre as chaves\")\n",
    "\n",
    "for i in dic:\n",
    "    print(i)\n",
    "\n",
    "print(\"Interando sobre os valores\")\n",
    "\n",
    "for i in dic:\n",
    "    print(dic[i])\n",
    "\n"
   ]
  },
  {
   "cell_type": "markdown",
   "id": "5a176833",
   "metadata": {},
   "source": [
    "### 11 - Escreva um programa que remova itens duplicados de uma lista."
   ]
  },
  {
   "cell_type": "code",
   "execution_count": null,
   "id": "5e0e8bfc",
   "metadata": {},
   "outputs": [],
   "source": [
    "print(\"Insira valores para a lista. Para encerrara a entrada insira \"\"(-)\"\".\")\n",
    "\n",
    "lista = []\n",
    "cont = 0\n",
    "while True:\n",
    "    \n",
    "    entrada = input()\n",
    "    \n",
    "    if entrada == \"-\":\n",
    "        break\n",
    "    \n",
    "    lista.append(int(entrada))\n",
    "\n",
    "print(set(lista))"
   ]
  },
  {
   "cell_type": "markdown",
   "id": "6d3850f5",
   "metadata": {},
   "source": [
    "### 12 - Escreva um programa que verifique se uma lista está vazia ou não."
   ]
  },
  {
   "cell_type": "code",
   "execution_count": null,
   "id": "31f7a17f",
   "metadata": {},
   "outputs": [],
   "source": [
    "print(\"Entre com valores para a lista. Para encerrar a entrada insira \"\"(-)\"\".\")\n",
    "\n",
    "lista = []\n",
    "\n",
    "while True:\n",
    "    \n",
    "    entrada = input()\n",
    "    \n",
    "    if entrada == \"-\":\n",
    "        break\n",
    "    \n",
    "    lista.append(int(entrada))\n",
    "    \n",
    "if len(lista) == 0:\n",
    "    print(\"Lista fazia !\")\n",
    "else:\n",
    "    print(\"A lista não está vazia\")"
   ]
  },
  {
   "cell_type": "markdown",
   "id": "6766740f",
   "metadata": {},
   "source": [
    "### 13 - Escreva um programa que clone ou copie uma lista."
   ]
  },
  {
   "cell_type": "code",
   "execution_count": null,
   "id": "0f286e22",
   "metadata": {},
   "outputs": [],
   "source": [
    "print(\"Entre com valores para a lista. Para encerrar a entrada insira \"\"(-)\"\".\")\n",
    "\n",
    "lista = []\n",
    "listaClonada = []\n",
    "\n",
    "while True:\n",
    "    \n",
    "    entrada = input()\n",
    "    \n",
    "    if entrada == \"-\":\n",
    "        break\n",
    "    \n",
    "    lista.append(int(entrada))\n",
    "\n",
    "listaClonada = lista[:len(lista)]\n",
    "    \n",
    "print(f\"Lista inserida: {lista}\")\n",
    "print(\"\\n\")\n",
    "print(f\"Lista Clonada: {listaClonada}\")\n"
   ]
  },
  {
   "cell_type": "code",
   "execution_count": null,
   "id": "2bd1f1a3",
   "metadata": {},
   "outputs": [],
   "source": []
  }
 ],
 "metadata": {
  "kernelspec": {
   "display_name": "Python 3 (ipykernel)",
   "language": "python",
   "name": "python3"
  },
  "language_info": {
   "codemirror_mode": {
    "name": "ipython",
    "version": 3
   },
   "file_extension": ".py",
   "mimetype": "text/x-python",
   "name": "python",
   "nbconvert_exporter": "python",
   "pygments_lexer": "ipython3",
   "version": "3.10.4"
  }
 },
 "nbformat": 4,
 "nbformat_minor": 5
}
