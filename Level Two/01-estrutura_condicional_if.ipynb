{
 "cells": [
  {
   "cell_type": "code",
   "execution_count": 147,
   "id": "473f6321",
   "metadata": {},
   "outputs": [
    {
     "name": "stdout",
     "output_type": "stream",
     "text": [
      "Informe um número: 58\n",
      "Informe um outro número: 63\n",
      "O maior eh 63\n"
     ]
    }
   ],
   "source": [
    "# Faça um Programa que peça dois números e imprima o maior deles\n",
    "\n",
    "num1 = input(\"Informe um número: \")\n",
    "num2 = input(\"Informe um outro número: \")\n",
    "\n",
    "if num2 > num1:\n",
    "    print(f\"O maior eh {num2}\")\n",
    "elif num1 > num2:\n",
    "    print(f\"O maior eh {num1}\")"
   ]
  },
  {
   "cell_type": "code",
   "execution_count": 16,
   "id": "eb420173",
   "metadata": {},
   "outputs": [
    {
     "name": "stdout",
     "output_type": "stream",
     "text": [
      "Insira um número: 0\n",
      "O número informado eh positivo\n"
     ]
    }
   ],
   "source": [
    "# Faça um Programa que peça um valor e mostre na tela se o valor é positivo ou negativo\n",
    "\n",
    "num = int(input(\"Insira um número: \"))\n",
    "\n",
    "if num >= 0:\n",
    "    print(\"O número informado eh positivo\")\n",
    "else:\n",
    "    print(\"O número informado eh negativo\")"
   ]
  },
  {
   "cell_type": "code",
   "execution_count": 21,
   "id": "c7e0d5c8",
   "metadata": {},
   "outputs": [
    {
     "name": "stdout",
     "output_type": "stream",
     "text": [
      "Entre com uma letra qualquer: t\n",
      "Eh consoante\n"
     ]
    }
   ],
   "source": [
    "# Faça um Programa que verifique se uma letra digitada é vogal ou consoante\n",
    "\n",
    "letra = input(\"Entre com uma letra qualquer: \")\n",
    "\n",
    "if letra in \"AaEeIiOoUu\":\n",
    "    print(\"Eh vogal\")\n",
    "else:\n",
    "    print(\"Eh consoante\")"
   ]
  },
  {
   "cell_type": "code",
   "execution_count": 146,
   "id": "b2fd421d",
   "metadata": {},
   "outputs": [
    {
     "name": "stdout",
     "output_type": "stream",
     "text": [
      "Informe três números\n",
      "45\n",
      "28\n",
      "75\n",
      "O maior número eh: 75 e o menor eh 28\n"
     ]
    }
   ],
   "source": [
    "# Faça um Programa que leia três números e mostre o maior e o menor deles\n",
    "\n",
    "print(\"Informe três números\")\n",
    "num1 = int(input())\n",
    "num2 = int(input())\n",
    "num3 = int(input())\n",
    "\n",
    "maior =num1\n",
    "menor = num1\n",
    "\n",
    "if num2 > num1 and num2 > num3:\n",
    "    maior = num2\n",
    "if num3 > num1 and num3 > num2:\n",
    "    maior = num3\n",
    "\n",
    "if num2 < num1 and num2 < num3:\n",
    "    menor = num2\n",
    "if num3 < num1 and num3 < num2:\n",
    "    menor = num3\n",
    "\n",
    "print(f\"O maior número eh: {maior} e o menor eh {menor}\")"
   ]
  },
  {
   "cell_type": "code",
   "execution_count": 145,
   "id": "346638db",
   "metadata": {},
   "outputs": [
    {
     "name": "stdout",
     "output_type": "stream",
     "text": [
      "Informe o preços de três produtos para decidir qual comprar\n",
      "2.8\n",
      "4.3\n",
      "1.89\n",
      "O produto com o menor valor eh o de 1.89\n"
     ]
    }
   ],
   "source": [
    "# Faça um programa que pergunte o preço de três produtos e informe qual produto você deve comprar, sabendo que\n",
    "# a decisão é sempre pelo mais barato\n",
    "\n",
    "print(\"Informe o preços de três produtos para decidir qual comprar\")\n",
    "\n",
    "preco1 = float(input())\n",
    "preco2 = float(input())\n",
    "preco3 = float(input())\n",
    "\n",
    "menor = preco1\n",
    "\n",
    "if preco2 < menor and preco2 < preco3:\n",
    "    menor = preco2\n",
    "\n",
    "if preco3 < menor and preco3 < preco2:\n",
    "    menor = preco3\n",
    "\n",
    "print(f\"O produto com o menor valor eh o de {menor:.2f}\")\n"
   ]
  },
  {
   "cell_type": "code",
   "execution_count": 144,
   "id": "72def0bf",
   "metadata": {},
   "outputs": [
    {
     "name": "stdout",
     "output_type": "stream",
     "text": [
      "Informe três números para ordená-los\n",
      "5\n",
      "9\n",
      "3\n",
      "[9, 5, 3]\n"
     ]
    }
   ],
   "source": [
    "# Faça um Programa que leia três números e mostre-os em ordem decrescente\n",
    "\n",
    "print(\"Informe três números para ordená-los\")\n",
    "\n",
    "lista = []\n",
    "\n",
    "for u in range(3):\n",
    "    num = int(input())\n",
    "    lista.append(num)\n",
    "\n",
    "lista.sort(reverse = True)\n",
    "\n",
    "print(lista)"
   ]
  },
  {
   "cell_type": "code",
   "execution_count": 16,
   "id": "b46add42",
   "metadata": {},
   "outputs": [
    {
     "name": "stdout",
     "output_type": "stream",
     "text": [
      "Em qual turno você estuda? manhã\n",
      "manhã\n"
     ]
    }
   ],
   "source": [
    "# Faça um Programa que pergunte em que turno você estuda\n",
    "\n",
    "turno = input(\"Em qual turno você estuda? \")\n",
    "\n",
    "print(turno)"
   ]
  },
  {
   "cell_type": "code",
   "execution_count": 21,
   "id": "eb0c3f12",
   "metadata": {},
   "outputs": [
    {
     "name": "stdout",
     "output_type": "stream",
     "text": [
      "Informe o reajuste em porcentetagem: 25\n",
      "Informe o seu salário: 1600\n",
      "\n",
      "Seu novo salário será de R$ 2000.00\n"
     ]
    }
   ],
   "source": [
    "# As Organizações Tabajara resolveram dar um aumento de salário aos seus colaboradores e lhe contraram para\n",
    "# desenvolver o programa que calculará os reajustes\n",
    "\n",
    "reajuste = float(input(\"Informe o reajuste em porcentetagem: \"))\n",
    "salario = float(input(\"Informe o seu salário: \"))\n",
    "\n",
    "novoSalario = ((reajuste * salario)/ 100) + salario\n",
    "\n",
    "print()\n",
    "print(f\"Seu novo salário será de R$ {(novoSalario):.2f}\")"
   ]
  },
  {
   "cell_type": "code",
   "execution_count": 143,
   "id": "f986d4cf",
   "metadata": {},
   "outputs": [
    {
     "name": "stdout",
     "output_type": "stream",
     "text": [
      "Qual o seu salário? 1200\n",
      "\n",
      "Salário bruto             R$ 1200.00\n",
      "-IR                       R$ 60.00\n",
      "-INSS                     R$ 120.00\n",
      "FGTS                      R$ 132.00\n",
      "Total descontado          R$ 180.00\n",
      "Seu salário liquido       R$ 1020.00\n"
     ]
    }
   ],
   "source": [
    "# Faça um programa para o cálculo de uma folha de pagamento\n",
    "\n",
    "salario = float(input(\"Qual o seu salário? \"))\n",
    "\n",
    "IR = (5 * salario/100) \n",
    "INSS = (10 * salario/100)\n",
    "FGTS = (11 * salario/100)\n",
    "impostos = IR + INSS\n",
    "\n",
    "print()\n",
    "print(f\"Salário bruto             R$ {(salario):.2f}\")\n",
    "print(f\"-IR                       R$ {(IR):.2f}\")\n",
    "print(f\"-INSS                     R$ {(INSS):.2f}\")\n",
    "print(f\"FGTS                      R$ {(FGTS):.2f}\")\n",
    "print(f\"Total descontado          R$ {(impostos):.2f}\")\n",
    "print(f\"Seu salário liquido       R$ {(salario - impostos):.2f}\")\n",
    "    \n",
    "    "
   ]
  },
  {
   "cell_type": "code",
   "execution_count": 56,
   "id": "1446ae0d",
   "metadata": {},
   "outputs": [
    {
     "name": "stdout",
     "output_type": "stream",
     "text": [
      "Informe um número: 5\n",
      "O número 5 corresponde a Quinta-feira\n"
     ]
    }
   ],
   "source": [
    "# Faça um Programa que leia um número e exiba o dia correspondente da semana. (1-Domingo, 2- Segunda, etc.),\n",
    "# se digitar outro valor deve aparecer valor inválido\n",
    "\n",
    "dia = int(input(\"Informe um número: \"))\n",
    "\n",
    "lista = [\"Domingo\", \"Segunda-feira\", \"Terça-feira\", \"Quarta-feira\", \"Quinta-feira\", \"Sexta-feira\", \"Sábado\" ]\n",
    "\n",
    "if 1 <= dia <= 7: \n",
    "    print(f\"O número {dia} corresponde a {lista[dia-1]}\")\n",
    "\n"
   ]
  },
  {
   "cell_type": "code",
   "execution_count": 57,
   "id": "b3ae128a",
   "metadata": {},
   "outputs": [
    {
     "name": "stdout",
     "output_type": "stream",
     "text": [
      "Informe a primeira nota: 5.6\n",
      "Informe a segunda nota: 8.9\n",
      "\n",
      "A média do semestre foi: 7.25\n"
     ]
    }
   ],
   "source": [
    "# Faça um programa que lê as duas notas parciais obtidas por um aluno numa disciplina ao longo de um semestre, e\n",
    "# calcule a sua média\n",
    "\n",
    "nota1 = float(input(\"Informe a primeira nota: \"))\n",
    "nota2 = float(input(\"Informe a segunda nota: \"))\n",
    "\n",
    "media = (nota1 + nota2)/2\n",
    "\n",
    "print()\n",
    "print(f\"A média do semestre foi: {(media):.2f}\")"
   ]
  },
  {
   "cell_type": "code",
   "execution_count": 98,
   "id": "f46316fa",
   "metadata": {},
   "outputs": [
    {
     "name": "stdout",
     "output_type": "stream",
     "text": [
      "Entre com o valor de a: 1\n",
      "Entre com o valor de b: -8\n",
      "Entre com o valor de c: 12\n",
      "6.0 , 2.0\n"
     ]
    }
   ],
   "source": [
    "# Faça um programa que calcule as raízes de uma equação do segundo grau, na forma ax2 + bx + c\n",
    "\n",
    "\n",
    "\n",
    "a = int(input(\"Entre com o valor de a: \"))\n",
    "b = int(input(\"Entre com o valor de b: \"))\n",
    "c = int(input(\"Entre com o valor de c: \"))\n",
    "\n",
    "delta = (b**2 - 4 * a * c)\n",
    "\n",
    "if delta > 0:\n",
    "    x1 = (- b + delta**(1/2)) / (2 * a)\n",
    "    x2 = (- b - delta**(1/2)) / (2 * a)\n",
    "    \n",
    "    print(x1,\",\",x2)\n",
    "    \n",
    "\n",
    "else:\n",
    "    print()\n",
    "    print(\"A equação de 2º grau não possui raízes reais!\")\n",
    "\n"
   ]
  },
  {
   "cell_type": "code",
   "execution_count": 100,
   "id": "a46e1a77",
   "metadata": {},
   "outputs": [
    {
     "name": "stdout",
     "output_type": "stream",
     "text": [
      "Informe o ano: 1986\n",
      "1986 não é bissexto\n"
     ]
    }
   ],
   "source": [
    "# Faça um Programa que peça um número correspondente a um determinado ano e em seguida informe se este ano é ou não bissexto\n",
    "\n",
    "ano = int(input(\"Informe o ano: \"))\n",
    "\n",
    "if (ano % 4) == 0:\n",
    "    print(f\"{ano} é bissexto\")\n",
    "\n",
    "elif (ano % 400) == 0 and (ano % 100) != 0:\n",
    "    print(f\"{ano} não é bissexto\")\n",
    "\n",
    "else:\n",
    "    print(f\"{ano} não é bissexto\")"
   ]
  },
  {
   "cell_type": "code",
   "execution_count": 108,
   "id": "3a8f1f1b",
   "metadata": {},
   "outputs": [
    {
     "name": "stdout",
     "output_type": "stream",
     "text": [
      "Informe uma data no formato dd/mm/aaaa: 31/02/2024\n",
      "Inválida\n"
     ]
    }
   ],
   "source": [
    "# Faça um Programa que peça uma data no formato dd/mm/aaaa e determine se a mesma é uma data válida\n",
    "\n",
    "entrada = input(\"Informe uma data no formato dd/mm/aaaa: \")\n",
    "\n",
    "dia, mes, ano = entrada.split(\"/\")\n",
    "\n",
    "dia = int(dia)\n",
    "mes = int(mes)\n",
    "ano = int(ano)\n",
    "\n",
    "valida = False\n",
    "    \n",
    "if( mes == 1 or mes == 3 or mes == 5 or mes == 7 or mes == 8 or mes == 10 or mes == 12):\n",
    "    if(dia<=31):\n",
    "        valida = True\n",
    "\n",
    "elif( mes == 4 or mes == 6 or mes == 9 or mes == 11):\n",
    "    if(dia <= 30):\n",
    "        valida = True\n",
    "        \n",
    "elif mes == 2:\n",
    "    if (ano % 4 == 0 and ano % 100 != 0) or (ano % 400 == 0):\n",
    "        if(dia <= 29):\n",
    "            valida = True\n",
    "            \n",
    "    elif(dia <= 28):\n",
    "        valida = True\n",
    "\n",
    "if(valida):\n",
    "    print('Data válida')\n",
    "    \n",
    "else:\n",
    "    print('Data Inválida')\n",
    "\n"
   ]
  },
  {
   "cell_type": "code",
   "execution_count": 142,
   "id": "ac1baf62",
   "metadata": {},
   "outputs": [
    {
     "name": "stdout",
     "output_type": "stream",
     "text": [
      "Informe um número menor que 1000: 753\n",
      "O número informado tem 7 centena(s), 5 dezena(s) e 3 unidade(s)\n"
     ]
    }
   ],
   "source": [
    "# Faça um Programa que leia um número inteiro menor que 1000 e imprima a quantidade de centenas, dezenas e unidades do mesmo\n",
    "\n",
    "\n",
    "num = int(input(\"Informe um número menor que 1000: \"))\n",
    "\n",
    "centenas = num // 100\n",
    "dezenas = (num // 10) % 10\n",
    "unidades = num % 10\n",
    "\n",
    "print(f\"O número informado tem {centenas} centena(s), {dezenas} dezena(s) e {unidades} unidade(s)\")\n",
    "\n",
    "\n"
   ]
  }
 ],
 "metadata": {
  "kernelspec": {
   "display_name": "Python 3",
   "language": "python",
   "name": "python3"
  },
  "language_info": {
   "codemirror_mode": {
    "name": "ipython",
    "version": 3
   },
   "file_extension": ".py",
   "mimetype": "text/x-python",
   "name": "python",
   "nbconvert_exporter": "python",
   "pygments_lexer": "ipython3",
   "version": "3.8.8"
  }
 },
 "nbformat": 4,
 "nbformat_minor": 5
}
