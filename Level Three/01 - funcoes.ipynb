{
 "cells": [
  {
   "cell_type": "markdown",
   "id": "fcb2c9b0",
   "metadata": {},
   "source": [
    "#### Questão 01 - Escreva um programa que execute uma função que encontre o maior número de uma lista passada por parâmetro."
   ]
  },
  {
   "cell_type": "code",
   "execution_count": 9,
   "id": "f7c946e7",
   "metadata": {},
   "outputs": [
    {
     "name": "stdout",
     "output_type": "stream",
     "text": [
      "102\n"
     ]
    }
   ],
   "source": [
    "lista = [54, 23, 7, 98, 21, 102, 43, 97, 36, 25, 87]\n",
    "\n",
    "def maiorNumero(listaRecebida):\n",
    "    maior = max(listaRecebida)\n",
    "    return maior\n",
    "\n",
    "print(maiorNumero(lista))"
   ]
  },
  {
   "cell_type": "markdown",
   "id": "19659947",
   "metadata": {},
   "source": [
    "#### Questão 02 - Escreva um programa que execute uma função que some todos os itens de uma lista passada por parâmetro."
   ]
  },
  {
   "cell_type": "code",
   "execution_count": 10,
   "id": "36310783",
   "metadata": {},
   "outputs": [
    {
     "name": "stdout",
     "output_type": "stream",
     "text": [
      "593\n"
     ]
    }
   ],
   "source": [
    "def somaLista(listaRecebida):\n",
    "    soma = sum(listaRecebida)\n",
    "    return soma\n",
    "\n",
    "print(somaLista(lista))"
   ]
  },
  {
   "cell_type": "markdown",
   "id": "e695351a",
   "metadata": {},
   "source": [
    "#### Questão 03 - Escreva um programa que execute uma função que multiplique todos os números de uma lista passada por parâmetro."
   ]
  },
  {
   "cell_type": "code",
   "execution_count": 11,
   "id": "dbbd7ca7",
   "metadata": {},
   "outputs": [
    {
     "name": "stdout",
     "output_type": "stream",
     "text": [
      "[108, 46, 14, 196, 42, 204, 86, 194, 72, 50, 174]\n"
     ]
    }
   ],
   "source": [
    "def multiplicaLista(fatorMultiplicador, lista):  \n",
    "    listaMultiplicada = []\n",
    "    \n",
    "    for i in lista:\n",
    "        listaMultiplicada.append(i * fatorMultiplicador)\n",
    "        \n",
    "    return listaMultiplicada\n",
    "\n",
    "print(multiplicaLista(2, lista))"
   ]
  },
  {
   "cell_type": "markdown",
   "id": "24b937d0",
   "metadata": {},
   "source": [
    "#### Questão 04 - Escreva um programa que execute uma função que retorne o inverso de uma string passada por parâmetro."
   ]
  },
  {
   "cell_type": "code",
   "execution_count": 17,
   "id": "777fc6cc",
   "metadata": {},
   "outputs": [
    {
     "name": "stdout",
     "output_type": "stream",
     "text": [
      "suehtaM\n"
     ]
    }
   ],
   "source": [
    "palavra = \"Matheus\"\n",
    "def inverteString(stringRecebida):\n",
    "    return stringRecebida[::-1]\n",
    "\n",
    "print(inverteString(palavra))   \n",
    "\n"
   ]
  },
  {
   "cell_type": "markdown",
   "id": "f2b476e8",
   "metadata": {},
   "source": [
    "#### Questão 05 - Escreva um programa que execute uma função que calcule o fatorial de um número passado por parâmetro."
   ]
  },
  {
   "cell_type": "code",
   "execution_count": 23,
   "id": "31a5c701",
   "metadata": {},
   "outputs": [
    {
     "name": "stdout",
     "output_type": "stream",
     "text": [
      "1 1 5040\n"
     ]
    }
   ],
   "source": [
    "def fatorial(num):\n",
    "    fator = 1\n",
    "    if num == 0:\n",
    "        return fator\n",
    "    else:\n",
    "        for i in range(2, num + 1):\n",
    "            fator *= i\n",
    "    return fator\n",
    "\n",
    "print(fatorial(0), fatorial(1), fatorial(7))"
   ]
  },
  {
   "cell_type": "markdown",
   "id": "d6b099d3",
   "metadata": {},
   "source": [
    "#### Questão 06 - Escreva um programa que execute uma função que conte o número de letras maiúsculas e minúsculas de um texto e que ao final, chame outra função para imprimir o resultado."
   ]
  },
  {
   "cell_type": "code",
   "execution_count": 26,
   "id": "f6260bcb",
   "metadata": {},
   "outputs": [
    {
     "name": "stdout",
     "output_type": "stream",
     "text": [
      "Esse texto possui 3 letras maiúsculas e 17 letras minúsculas.\n"
     ]
    }
   ],
   "source": [
    "def imprime(qntMaiuscula, qntMinuscula):\n",
    "    print(f\"Esse texto possui {qntMaiuscula} letras maiúsculas e {qntMinuscula} letras minúsculas.\")\n",
    "    \n",
    "def qntLetrasMaiusculasEMinusculas(stringRecebida):\n",
    "    maiuscula = 0\n",
    "    minuscula = 0\n",
    "    \n",
    "    for i in stringRecebida:\n",
    "        if 65 <= ord(i) <= 90:\n",
    "            maiuscula += 1\n",
    "        if 97 <= ord(i) <= 122:\n",
    "            minuscula += 1\n",
    "            \n",
    "    #chando a função imprime        \n",
    "    imprime(maiuscula, minuscula)\n",
    "    \n",
    "            \n",
    "qntLetrasMaiusculasEMinusculas(\"Matheus Victor Pereira\")"
   ]
  },
  {
   "cell_type": "markdown",
   "id": "216324bb",
   "metadata": {},
   "source": [
    "#### Questão 07 - Escreva um programa Python que execute uma string que contenha um código Python."
   ]
  },
  {
   "cell_type": "code",
   "execution_count": 30,
   "id": "1466ff13",
   "metadata": {},
   "outputs": [
    {
     "name": "stdout",
     "output_type": "stream",
     "text": [
      "Delta = 9\n"
     ]
    }
   ],
   "source": [
    "stringComCodigo = \"\"\"a = 1\n",
    "b = 5\n",
    "c = 4\n",
    "\n",
    "delta  = (b ** 2 - 4 * a * c)\n",
    "\n",
    "print(f\"Delta = {delta:.0f}\")\n",
    "\"\"\"\n",
    "\n",
    "def executaString(stringRecebida):\n",
    "    exec(stringRecebida)\n",
    "\n",
    "executaString(stringComCodigo)"
   ]
  },
  {
   "cell_type": "markdown",
   "id": "392cbe0e",
   "metadata": {},
   "source": [
    "#### Questão 08 - Escreva um programa que execute uma função que receba um número informado no console como parâmetro e verifique se o número informado é primo ou não."
   ]
  },
  {
   "cell_type": "code",
   "execution_count": 33,
   "id": "f2e149b3",
   "metadata": {},
   "outputs": [
    {
     "name": "stdout",
     "output_type": "stream",
     "text": [
      "Informe um número para verificar se eh primo ou não: 15\n"
     ]
    },
    {
     "data": {
      "text/plain": [
       "True"
      ]
     },
     "execution_count": 33,
     "metadata": {},
     "output_type": "execute_result"
    }
   ],
   "source": [
    "numero = int(input(\"Informe um número para verificar se eh primo ou não: \"))\n",
    "\n",
    "def eh_primo(num):\n",
    "\n",
    "    raiz = int(num ** (0.5))\n",
    "    for i in range(2, raiz + 1):\n",
    "        if num % i == 0:\n",
    "            return True\n",
    "    return False\n",
    "\n",
    "eh_primo(numero)\n"
   ]
  },
  {
   "cell_type": "markdown",
   "id": "c182ed31",
   "metadata": {},
   "source": [
    "#### Questão 09 - Escreva um programa que execute uma função que valide se o número informado é um número perfeito ou não."
   ]
  },
  {
   "cell_type": "code",
   "execution_count": 38,
   "id": "3c754569",
   "metadata": {},
   "outputs": [
    {
     "name": "stdout",
     "output_type": "stream",
     "text": [
      "Não eh perfeito\n",
      "Eh perfeito\n"
     ]
    }
   ],
   "source": [
    "def perfeito(num):\n",
    "    soma=0\n",
    "    for i in range(1,num):\n",
    "        if num % i == 0:\n",
    "            soma += i\n",
    "\n",
    "    if soma == num:\n",
    "        print(\"Eh perfeito\")\n",
    "    else:\n",
    "        print(\"Não eh perfeito\")\n",
    "    \n",
    "perfeito(27)\n",
    "perfeito(28)"
   ]
  },
  {
   "cell_type": "markdown",
   "id": "4058da97",
   "metadata": {},
   "source": [
    "#### Quetão 10 - Escreva uma função que imprima as primeiras n linhas do triângulo de pascal."
   ]
  },
  {
   "cell_type": "code",
   "execution_count": 51,
   "id": "ad3c76c0",
   "metadata": {},
   "outputs": [
    {
     "name": "stdout",
     "output_type": "stream",
     "text": [
      "      1 \n",
      "     1 1 \n",
      "    1 2 1 \n",
      "   1 3 3 1 \n",
      "  1 4 6 4 1 \n"
     ]
    }
   ],
   "source": [
    "from math import factorial \n",
    "\n",
    "def trianguloDePascal(numeroDeLinhas):\n",
    "    \n",
    "    for i in range(numeroDeLinhas): \n",
    "        for j in range(numeroDeLinhas-i+1): \n",
    "            print(end=\" \")  \n",
    "        for j in range(i+1): \n",
    "            print(factorial(i)//(factorial(j)*factorial(i-j)), end=\" \")    \n",
    "        print()\n",
    "\n",
    "trianguloDePascal(5)"
   ]
  },
  {
   "cell_type": "code",
   "execution_count": null,
   "id": "22f62602",
   "metadata": {},
   "outputs": [],
   "source": []
  }
 ],
 "metadata": {
  "kernelspec": {
   "display_name": "Python 3 (ipykernel)",
   "language": "python",
   "name": "python3"
  },
  "language_info": {
   "codemirror_mode": {
    "name": "ipython",
    "version": 3
   },
   "file_extension": ".py",
   "mimetype": "text/x-python",
   "name": "python",
   "nbconvert_exporter": "python",
   "pygments_lexer": "ipython3",
   "version": "3.10.4"
  }
 },
 "nbformat": 4,
 "nbformat_minor": 5
}
